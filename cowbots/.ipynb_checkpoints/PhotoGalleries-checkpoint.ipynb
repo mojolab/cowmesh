{
 "cells": [
  {
   "cell_type": "code",
   "execution_count": 3,
   "metadata": {},
   "outputs": [
    {
     "name": "stdout",
     "output_type": "stream",
     "text": [
      "hello\n"
     ]
    }
   ],
   "source": [
    "from bs4 import BeautifulSoup\n",
    "import urllib2,urlparse\n",
    "import sys,os\n",
    "sys.path.append(\"/opt/livingdata/lib\")\n",
    "from livdatcsvlib import *\n",
    "baseurl=\"http://environicsindia.in/index.php/en/gallery1/photos/mmp-ec-meeting-vizag\"\n",
    "webcontent=urllib2.urlopen(baseurl).read()\n",
    "soup = BeautifulSoup(webcontent,'html.parser')\n",
    "links=[]"
   ]
  },
  {
   "cell_type": "code",
   "execution_count": null,
   "metadata": {
    "collapsed": true
   },
   "outputs": [],
   "source": []
  }
 ],
 "metadata": {
  "kernelspec": {
   "display_name": "Python 2",
   "language": "python",
   "name": "python2"
  },
  "language_info": {
   "codemirror_mode": {
    "name": "ipython",
    "version": 2
   },
   "file_extension": ".py",
   "mimetype": "text/x-python",
   "name": "python",
   "nbconvert_exporter": "python",
   "pygments_lexer": "ipython2",
   "version": "2.7.12"
  }
 },
 "nbformat": 4,
 "nbformat_minor": 2
}
