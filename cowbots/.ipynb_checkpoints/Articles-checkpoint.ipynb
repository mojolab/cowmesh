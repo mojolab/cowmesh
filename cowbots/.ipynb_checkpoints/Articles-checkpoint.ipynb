{
 "cells": [
  {
   "cell_type": "code",
   "execution_count": null,
   "metadata": {},
   "outputs": [],
   "source": [
    "from bs4 import BeautifulSoup\n",
    "import urllib2,urlparse\n",
    "import sys,os\n",
    "sys.path.append(\"/opt/livingdata/lib\")\n",
    "from livdatcsvlib import *\n",
    "from cowbotfunctions import *\n",
    "\n",
    "\n",
    "baseurl=\"http://environicsindia.in/index.php/en/?option=com_content&view=article&layout=&id=1481\"\n",
    "baseurl2=\"http://environicsindia.in/index.php/en/?option=com_content&view=article&layout=&id=1322\"\n",
    "gettextandlinks(baseurl)"
   ]
  },
  {
   "cell_type": "code",
   "execution_count": null,
   "metadata": {
    "scrolled": true
   },
   "outputs": [],
   "source": []
  },
  {
   "cell_type": "code",
   "execution_count": null,
   "metadata": {},
   "outputs": [],
   "source": []
  },
  {
   "cell_type": "code",
   "execution_count": null,
   "metadata": {
    "collapsed": true
   },
   "outputs": [],
   "source": []
  },
  {
   "cell_type": "code",
   "execution_count": null,
   "metadata": {
    "collapsed": true
   },
   "outputs": [],
   "source": []
  }
 ],
 "metadata": {
  "kernelspec": {
   "display_name": "Python 2",
   "language": "python",
   "name": "python2"
  },
  "language_info": {
   "codemirror_mode": {
    "name": "ipython",
    "version": 2
   },
   "file_extension": ".py",
   "mimetype": "text/x-python",
   "name": "python",
   "nbconvert_exporter": "python",
   "pygments_lexer": "ipython2",
   "version": "2.7.12"
  }
 },
 "nbformat": 4,
 "nbformat_minor": 2
}
